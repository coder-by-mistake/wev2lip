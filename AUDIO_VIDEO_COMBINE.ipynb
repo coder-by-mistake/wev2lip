{
 "cells": [
  {
   "cell_type": "code",
   "execution_count": 2,
   "metadata": {},
   "outputs": [
    {
     "ename": "ModuleNotFoundError",
     "evalue": "No module named 'moviepy.editor'",
     "output_type": "error",
     "traceback": [
      "\u001b[0;31m---------------------------------------------------------------------------\u001b[0m",
      "\u001b[0;31mModuleNotFoundError\u001b[0m                       Traceback (most recent call last)",
      "Cell \u001b[0;32mIn[2], line 2\u001b[0m\n\u001b[1;32m      1\u001b[0m \u001b[38;5;66;03m# Import everything needed to edit video clips \u001b[39;00m\n\u001b[0;32m----> 2\u001b[0m \u001b[38;5;28;01mfrom\u001b[39;00m \u001b[38;5;21;01mmoviepy\u001b[39;00m\u001b[38;5;21;01m.\u001b[39;00m\u001b[38;5;21;01meditor\u001b[39;00m \u001b[38;5;28;01mimport\u001b[39;00m \u001b[38;5;241m*\u001b[39m\n\u001b[1;32m      5\u001b[0m \u001b[38;5;66;03m# loading video dsa gfg intro video \u001b[39;00m\n\u001b[1;32m      6\u001b[0m clip \u001b[38;5;241m=\u001b[39m VideoFileClip(\u001b[38;5;124m\"\u001b[39m\u001b[38;5;124mdsa_geek.mp4\u001b[39m\u001b[38;5;124m\"\u001b[39m) \n",
      "\u001b[0;31mModuleNotFoundError\u001b[0m: No module named 'moviepy.editor'"
     ]
    }
   ],
   "source": [
    "\n",
    "\n",
    "\n",
    "\n",
    "# Import everything needed to edit video clips \n",
    "from moviepy.editor import *\n",
    "  \n",
    "   \n",
    "# loading video dsa gfg intro video \n",
    "clip = VideoFileClip(\"dsa_geek.mp4\") \n",
    "  \n",
    "  \n",
    "# getting only first 5 seconds \n",
    "clip = clip.subclip(0, 5) \n",
    "  \n",
    "# loading audio file \n",
    "audioclip = AudioFileClip(\"allwell.mp3\").subclip(0, 5) \n",
    "  \n",
    "# adding audio to the video clip \n",
    "videoclip = clip.set_audio(audioclip) \n",
    "  \n",
    "# showing video clip \n",
    "videoclip.ipython_display() "
   ]
  },
  {
   "cell_type": "code",
   "execution_count": 6,
   "metadata": {},
   "outputs": [
    {
     "name": "stdout",
     "output_type": "stream",
     "text": [
      "Found existing installation: moviepy 2.1.1\n",
      "Uninstalling moviepy-2.1.1:\n",
      "  Would remove:\n",
      "    /home/webexpert/Wav2Lip/venv/lib/python3.10/site-packages/moviepy-2.1.1.dist-info/*\n",
      "    /home/webexpert/Wav2Lip/venv/lib/python3.10/site-packages/moviepy/*\n",
      "Proceed (Y/n)? ^C\n",
      "\u001b[31mERROR: Operation cancelled by user\u001b[0m\u001b[31m\n",
      "\u001b[0m"
     ]
    }
   ],
   "source": [
    "!pip uninstall moviepy"
   ]
  },
  {
   "cell_type": "code",
   "execution_count": null,
   "metadata": {},
   "outputs": [],
   "source": [
    "!pip install moviepy"
   ]
  },
  {
   "cell_type": "code",
   "execution_count": null,
   "metadata": {},
   "outputs": [],
   "source": []
  }
 ],
 "metadata": {
  "kernelspec": {
   "display_name": "venv",
   "language": "python",
   "name": "python3"
  },
  "language_info": {
   "codemirror_mode": {
    "name": "ipython",
    "version": 3
   },
   "file_extension": ".py",
   "mimetype": "text/x-python",
   "name": "python",
   "nbconvert_exporter": "python",
   "pygments_lexer": "ipython3",
   "version": "3.10.12"
  }
 },
 "nbformat": 4,
 "nbformat_minor": 2
}
